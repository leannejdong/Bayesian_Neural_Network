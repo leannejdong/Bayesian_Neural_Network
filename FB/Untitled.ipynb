{
 "cells": [
  {
   "cell_type": "code",
   "execution_count": null,
   "metadata": {},
   "outputs": [
    {
     "name": "stderr",
     "output_type": "stream",
     "text": [
      "Using TensorFlow backend.\n"
     ]
    },
    {
     "ename": "ModuleNotFoundError",
     "evalue": "No module named 'numpy.core._multiarray_umath'",
     "output_type": "error",
     "traceback": [
      "\u001b[0;31m---------------------------------------------------------------------------\u001b[0m",
      "\u001b[0;31mModuleNotFoundError\u001b[0m                       Traceback (most recent call last)",
      "\u001b[0;31mModuleNotFoundError\u001b[0m: No module named 'numpy.core._multiarray_umath'"
     ]
    },
    {
     "ename": "SystemError",
     "evalue": "<class '_frozen_importlib._ModuleLockManager'> returned a result with an error set",
     "output_type": "error",
     "traceback": [
      "\u001b[0;31m---------------------------------------------------------------------------\u001b[0m",
      "\u001b[0;31mImportError\u001b[0m                               Traceback (most recent call last)",
      "\u001b[0;31mImportError\u001b[0m: numpy.core.multiarray failed to import",
      "\nThe above exception was the direct cause of the following exception:\n",
      "\u001b[0;31mSystemError\u001b[0m                               Traceback (most recent call last)",
      "\u001b[0;32m~/anaconda3/lib/python3.6/importlib/_bootstrap.py\u001b[0m in \u001b[0;36m_find_and_load\u001b[0;34m(name, import_)\u001b[0m\n",
      "\u001b[0;31mSystemError\u001b[0m: <class '_frozen_importlib._ModuleLockManager'> returned a result with an error set"
     ]
    },
    {
     "ename": "ImportError",
     "evalue": "numpy.core._multiarray_umath failed to import",
     "output_type": "error",
     "traceback": [
      "\u001b[0;31m---------------------------------------------------------------------------\u001b[0m",
      "\u001b[0;31mImportError\u001b[0m                               Traceback (most recent call last)",
      "\u001b[0;31mImportError\u001b[0m: numpy.core._multiarray_umath failed to import"
     ]
    },
    {
     "ename": "ImportError",
     "evalue": "numpy.core.umath failed to import",
     "output_type": "error",
     "traceback": [
      "\u001b[0;31m---------------------------------------------------------------------------\u001b[0m",
      "\u001b[0;31mImportError\u001b[0m                               Traceback (most recent call last)",
      "\u001b[0;31mImportError\u001b[0m: numpy.core.umath failed to import"
     ]
    }
   ],
   "source": [
    "import numpy as np\n",
    "from keras.models import Sequential\n",
    "from keras.layers import Dense\n",
    "\n",
    "\n",
    "def normalisedata(data, inputsize, outsize):  # normalise the data between [0,1]. This is important for most problems.\n",
    "    traindt = data[:, np.array(range(0, inputsize))]\n",
    "    dt = np.amax(traindt, axis=0)\n",
    "    tds = abs(traindt / dt)\n",
    "    return np.concatenate((tds[:, range(0, inputsize)], data[:, range(inputsize, inputsize + outsize)]), axis=1)\n",
    "\n",
    "def main():\n",
    "    problem = 2  # [1,2,3] choose your problem (Iris classfication or 4-bit parity or XOR gate)\n",
    "\n",
    "    if problem == 1:\n",
    "        training_data = np.loadtxt(\"Datasets/Train.csv\", delimiter=',')  # Iris classification problem (UCI dataset)\n",
    "        test_data = np.loadtxt(\"Datasets/TestX.csv\", delimiter=',')  #\n",
    "        hidden_size = 6\n",
    "        input_size = 4\n",
    "        output_size = 2\n",
    "        x_train = training_data[:, 0:input_size]\n",
    "        y_train = training_data[:, input_size:input_size+output_size]\n",
    "        x_test = test_data[:, 0:input_size]\n",
    "        y_test = test_data[:, input_size:input_size+output_size]\n",
    "\n",
    "\n",
    "    if problem == 2:\n",
    "        training_data = np.loadtxt(\"4bit.csv\", delimiter=',')  # 4-bit parity problem\n",
    "        test_data = np.loadtxt(\"4bit.csv\", delimiter=',')  #\n",
    "        hidden_size = 4\n",
    "        input_size = 4\n",
    "        output_size = 1\n",
    "\n",
    "        x_train = training_data[:, 0:input_size]\n",
    "        y_train = training_data[:, input_size:input_size+output_size]\n",
    "        x_test = test_data[:, 0:input_size]\n",
    "        y_test = test_data[:, input_size:input_size+output_size]\n",
    "\n",
    "    if problem == 3:\n",
    "        training_data = np.loadtxt(\"xor.csv\", delimiter=',')  # 4-bit parity problem\n",
    "        test_data = np.loadtxt(\"xor.csv\", delimiter=',')  #\n",
    "        hidden_size = 3\n",
    "        input_size = 2\n",
    "        output_size = 1\n",
    "        x_train = training_data[:, 0:input_size]\n",
    "        y_train = training_data[:, input_size:input_size+output_size]\n",
    "        x_test = test_data[:, 0:input_size]\n",
    "        y_test = test_data[:, input_size:input_size+output_size]\n",
    "\n",
    "    model = Sequential()\n",
    "    model.add(Dense(hidden_size, input_shape=(input_size,)))\n",
    "    model.add(Dense(output_size, activation='sigmoid'))\n",
    "    model.compile(optimizer='SGD', loss='binary_crossentropy', metrics=['accuracy'])\n",
    "    model.fit(x_train, y_train, batch_size=5, verbose=0, epochs=50)\n",
    "    eval = model.evaluate(x_test, y_test)\n",
    "\n",
    "    print(\"\\nModel Loss: \"+str(eval[0]))\n",
    "    print(\"Model Accuracy: \"+str(eval[1]))\n",
    "\n",
    "if __name__ == \"__main__\": main()\n"
   ]
  },
  {
   "cell_type": "code",
   "execution_count": null,
   "metadata": {},
   "outputs": [],
   "source": []
  }
 ],
 "metadata": {
  "kernelspec": {
   "display_name": "Python 3",
   "language": "python",
   "name": "python3"
  },
  "language_info": {
   "codemirror_mode": {
    "name": "ipython",
    "version": 3
   },
   "file_extension": ".py",
   "mimetype": "text/x-python",
   "name": "python",
   "nbconvert_exporter": "python",
   "pygments_lexer": "ipython3",
   "version": "3.6.8"
  }
 },
 "nbformat": 4,
 "nbformat_minor": 2
}
